{
 "cells": [
  {
   "cell_type": "markdown",
   "metadata": {},
   "source": [
    "# Social Graph Analysis Group Project\n",
    "\n",
    "### Grandma’s Cookbook, Lookbook: An Analysis of Ingredients Association With Ethnic Cuisines\n",
    "\n",
    "#### Group Members:\n",
    "* Nick Potts\n",
    "* Kristi Conry\n",
    "* Jacob Lebowitz\n",
    "* Anthony Bryson"
   ]
  },
  {
   "cell_type": "markdown",
   "metadata": {},
   "source": [
    "### Possible Goals :)\n",
    "\n",
    "1) Predict popular cuisine's based on what ingediants you have <br>\n",
    "2) Essential ingrediants if you like a favorite cuisine <br>\n",
    "3) Ingrediant recommendation system ( if you lke 3 types of cuisine find top similar ingrediants ) \n",
    "\n",
    "### Just some questions for our data :)\n",
    "\n",
    "1) Which cuisine's are most similar based on ingediants? and why?"
   ]
  },
  {
   "cell_type": "code",
   "execution_count": 9,
   "metadata": {},
   "outputs": [],
   "source": [
    "import pandas as pd\n",
    "import numpy as np\n",
    "\n",
    "import matplotlib.pyplot as plt\n",
    "import seaborn as sns\n",
    "\n",
    "import json\n",
    "import collections\n",
    "import re\n",
    "import pickle\n",
    "\n",
    "from gensim.models import word2vec\n",
    "\n",
    "# Modelling Helpers, see above the description\n",
    "from sklearn.manifold import TSNE\n",
    "\n",
    "import nltk\n",
    "from nltk.tokenize import sent_tokenize, word_tokenize\n",
    "from nltk.corpus import stopwords, wordnet\n",
    "from nltk.stem import PorterStemmer, WordNetLemmatizer"
   ]
  },
  {
   "cell_type": "code",
   "execution_count": 10,
   "metadata": {},
   "outputs": [],
   "source": [
    "df = pd.read_csv('data/cleaned_data.csv', converters={'ingredient_list_cleaned': lambda x: x[1:-1].replace(\"'\", '').split(','),\n",
    "                                                      'ingredients': lambda x: x[1:-1].replace(\"'\", '').split(',')})"
   ]
  },
  {
   "cell_type": "code",
   "execution_count": 11,
   "metadata": {},
   "outputs": [
    {
     "data": {
      "text/html": [
       "<div>\n",
       "<style scoped>\n",
       "    .dataframe tbody tr th:only-of-type {\n",
       "        vertical-align: middle;\n",
       "    }\n",
       "\n",
       "    .dataframe tbody tr th {\n",
       "        vertical-align: top;\n",
       "    }\n",
       "\n",
       "    .dataframe thead th {\n",
       "        text-align: right;\n",
       "    }\n",
       "</style>\n",
       "<table border=\"1\" class=\"dataframe\">\n",
       "  <thead>\n",
       "    <tr style=\"text-align: right;\">\n",
       "      <th></th>\n",
       "      <th>id</th>\n",
       "      <th>cuisine</th>\n",
       "      <th>ingredients</th>\n",
       "      <th>ingredients_sentence</th>\n",
       "      <th>ingredient_cleaned</th>\n",
       "      <th>ingredient_list_cleaned</th>\n",
       "    </tr>\n",
       "  </thead>\n",
       "  <tbody>\n",
       "    <tr>\n",
       "      <th>0</th>\n",
       "      <td>10259</td>\n",
       "      <td>greek</td>\n",
       "      <td>[romaine lettuce,  black olives,  grape tomato...</td>\n",
       "      <td>romaine lettuce black olives grape tomatoes ga...</td>\n",
       "      <td>romain lettuc black oliv grape tomato garlic p...</td>\n",
       "      <td>[romain lettuc,  black oliv,  grape tomato,  g...</td>\n",
       "    </tr>\n",
       "    <tr>\n",
       "      <th>1</th>\n",
       "      <td>25693</td>\n",
       "      <td>southern_us</td>\n",
       "      <td>[plain flour,  ground pepper,  salt,  tomatoes...</td>\n",
       "      <td>plain flour ground pepper salt tomatoes ground...</td>\n",
       "      <td>plain flour ground pepper salt tomato ground b...</td>\n",
       "      <td>[plain flour,  ground pepper,  salt,  tomato, ...</td>\n",
       "    </tr>\n",
       "    <tr>\n",
       "      <th>2</th>\n",
       "      <td>20130</td>\n",
       "      <td>filipino</td>\n",
       "      <td>[eggs,  pepper,  salt,  mayonaise,  cooking oi...</td>\n",
       "      <td>eggs pepper salt mayonaise cooking oil green c...</td>\n",
       "      <td>egg pepper salt mayonais cook oil green chili ...</td>\n",
       "      <td>[egg,  pepper,  salt,  mayonais,  cook oil,  g...</td>\n",
       "    </tr>\n",
       "    <tr>\n",
       "      <th>3</th>\n",
       "      <td>22213</td>\n",
       "      <td>indian</td>\n",
       "      <td>[water,  vegetable oil,  wheat,  salt]</td>\n",
       "      <td>water vegetable oil wheat salt</td>\n",
       "      <td>water veget oil wheat salt</td>\n",
       "      <td>[water,  veget oil,  wheat,  salt]</td>\n",
       "    </tr>\n",
       "    <tr>\n",
       "      <th>4</th>\n",
       "      <td>13162</td>\n",
       "      <td>indian</td>\n",
       "      <td>[black pepper,  shallots,  cornflour,  cayenne...</td>\n",
       "      <td>black pepper shallots cornflour cayenne pepper...</td>\n",
       "      <td>black pepper shallot cornflour cayenn pepper o...</td>\n",
       "      <td>[black pepper,  shallot,  cornflour,  cayenn p...</td>\n",
       "    </tr>\n",
       "  </tbody>\n",
       "</table>\n",
       "</div>"
      ],
      "text/plain": [
       "      id      cuisine                                        ingredients  \\\n",
       "0  10259        greek  [romaine lettuce,  black olives,  grape tomato...   \n",
       "1  25693  southern_us  [plain flour,  ground pepper,  salt,  tomatoes...   \n",
       "2  20130     filipino  [eggs,  pepper,  salt,  mayonaise,  cooking oi...   \n",
       "3  22213       indian             [water,  vegetable oil,  wheat,  salt]   \n",
       "4  13162       indian  [black pepper,  shallots,  cornflour,  cayenne...   \n",
       "\n",
       "                                ingredients_sentence  \\\n",
       "0  romaine lettuce black olives grape tomatoes ga...   \n",
       "1  plain flour ground pepper salt tomatoes ground...   \n",
       "2  eggs pepper salt mayonaise cooking oil green c...   \n",
       "3                     water vegetable oil wheat salt   \n",
       "4  black pepper shallots cornflour cayenne pepper...   \n",
       "\n",
       "                                  ingredient_cleaned  \\\n",
       "0  romain lettuc black oliv grape tomato garlic p...   \n",
       "1  plain flour ground pepper salt tomato ground b...   \n",
       "2  egg pepper salt mayonais cook oil green chili ...   \n",
       "3                         water veget oil wheat salt   \n",
       "4  black pepper shallot cornflour cayenn pepper o...   \n",
       "\n",
       "                             ingredient_list_cleaned  \n",
       "0  [romain lettuc,  black oliv,  grape tomato,  g...  \n",
       "1  [plain flour,  ground pepper,  salt,  tomato, ...  \n",
       "2  [egg,  pepper,  salt,  mayonais,  cook oil,  g...  \n",
       "3                 [water,  veget oil,  wheat,  salt]  \n",
       "4  [black pepper,  shallot,  cornflour,  cayenn p...  "
      ]
     },
     "execution_count": 11,
     "metadata": {},
     "output_type": "execute_result"
    }
   ],
   "source": [
    "df.head()"
   ]
  },
  {
   "cell_type": "code",
   "execution_count": 15,
   "metadata": {},
   "outputs": [
    {
     "data": {
      "text/plain": [
       "italian         7838\n",
       "mexican         6438\n",
       "southern_us     4320\n",
       "indian          3003\n",
       "chinese         2673\n",
       "french          2646\n",
       "cajun_creole    1546\n",
       "thai            1539\n",
       "japanese        1423\n",
       "greek           1175\n",
       "spanish          989\n",
       "korean           830\n",
       "vietnamese       825\n",
       "moroccan         821\n",
       "british          804\n",
       "filipino         755\n",
       "irish            667\n",
       "jamaican         526\n",
       "russian          489\n",
       "brazilian        467\n",
       "Name: cuisine, dtype: int64"
      ]
     },
     "execution_count": 15,
     "metadata": {},
     "output_type": "execute_result"
    }
   ],
   "source": [
    "df['cuisine'].value_counts()"
   ]
  },
  {
   "cell_type": "code",
   "execution_count": 30,
   "metadata": {},
   "outputs": [
    {
     "data": {
      "text/plain": [
       "[('salt', 18049),\n",
       " ('onion', 7972),\n",
       " ('oliv oil', 7972),\n",
       " ('water', 7457),\n",
       " ('garlic', 7380),\n",
       " ('sugar', 6434),\n",
       " ('garlic clove', 6237),\n",
       " ('butter', 4848),\n",
       " ('ground black pepper', 4785),\n",
       " ('allpurpos flour', 4632)]"
      ]
     },
     "execution_count": 30,
     "metadata": {},
     "output_type": "execute_result"
    }
   ],
   "source": [
    "real_ingredients = []\n",
    "\n",
    "for ingredients in df['ingredient_list_cleaned']:\n",
    "    for ingredient in ingredients:\n",
    "        real_ingredients.append(ingredient.strip())\n",
    "        \n",
    "count_of_ingredient = collections.Counter(real_ingredients)\n",
    "count_of_ingredient.most_common(10)"
   ]
  },
  {
   "cell_type": "code",
   "execution_count": 31,
   "metadata": {},
   "outputs": [
    {
     "data": {
      "text/plain": [
       "6666"
      ]
     },
     "execution_count": 31,
     "metadata": {},
     "output_type": "execute_result"
    }
   ],
   "source": [
    "len(count_of_ingredient.keys())"
   ]
  },
  {
   "cell_type": "code",
   "execution_count": 18,
   "metadata": {},
   "outputs": [
    {
     "name": "stderr",
     "output_type": "stream",
     "text": [
      "/Library/Frameworks/Python.framework/Versions/3.7/lib/python3.7/site-packages/seaborn/_decorators.py:43: FutureWarning: Pass the following variable as a keyword arg: x. From version 0.12, the only valid positional argument will be `data`, and passing other arguments without an explicit keyword will result in an error or misinterpretation.\n",
      "  FutureWarning\n"
     ]
    },
    {
     "data": {
      "text/plain": [
       "<AxesSubplot:xlabel='cuisine', ylabel='count'>"
      ]
     },
     "execution_count": 18,
     "metadata": {},
     "output_type": "execute_result"
    },
    {
     "data": {
      "image/png": "[encoded data removed]",
      "text/plain": [
       "<Figure size 720x432 with 1 Axes>"
      ]
     },
     "metadata": {
      "needs_background": "light"
     },
     "output_type": "display_data"
    }
   ],
   "source": [
    "fig = plt.figure(figsize=[10,6])\n",
    "\n",
    "plt.xticks(rotation=70)\n",
    "\n",
    "sns.countplot(df['cuisine'])"
   ]
  },
  {
   "cell_type": "code",
   "execution_count": 19,
   "metadata": {},
   "outputs": [],
   "source": [
    "count_of_ingredient_ordered = sorted(count_of_ingredient.items(), key=lambda x: x[1], reverse=True)"
   ]
  },
  {
   "cell_type": "code",
   "execution_count": 20,
   "metadata": {},
   "outputs": [
    {
     "data": {
      "text/plain": [
       "<AxesSubplot:>"
      ]
     },
     "execution_count": 20,
     "metadata": {},
     "output_type": "execute_result"
    },
    {
     "data": {
      "image/png": "[encoded data removed]",
      "text/plain": [
       "<Figure size 1152x576 with 1 Axes>"
      ]
     },
     "metadata": {
      "needs_background": "light"
     },
     "output_type": "display_data"
    }
   ],
   "source": [
    "count_of_ingredient.most_common(10)\n",
    "\n",
    "ingredients = []\n",
    "counter = []\n",
    "\n",
    "for counted_ingredients in count_of_ingredient.most_common(40):\n",
    "    ingredients.append(counted_ingredients[0])\n",
    "    counter.append(counted_ingredients[1])\n",
    "    \n",
    "fig = plt.figure(figsize=[16,8])\n",
    "\n",
    "plt.xticks(rotation=70)\n",
    "\n",
    "sns.barplot(x=ingredients, y=counter)"
   ]
  },
  {
   "cell_type": "code",
   "execution_count": 28,
   "metadata": {},
   "outputs": [
    {
     "name": "stdout",
     "output_type": "stream",
     "text": [
      "39774\n",
      "[['romain lettuc', 'black oliv', 'grape tomato', 'garlic', 'pepper', 'purpl onion', 'season', 'garbanzo bean', 'feta chees crumbl'], ['plain flour', 'pepper', 'salt', 'tomato', 'black pepper', 'thyme', 'egg', 'green tomato', 'yellow corn meal', 'milk', 'veget oil'], ['egg', 'pepper', 'salt', 'mayonais', 'cook oil', 'green chili', 'grill chicken breast', 'garlic powder', 'yellow onion', 'soy sauc', 'butter', 'chicken liver'], ['water', 'veget oil', 'wheat', 'salt'], ['black pepper', 'shallot', 'cornflour', 'cayenn pepper', 'onion', 'garlic past', 'milk', 'butter', 'salt', 'lemon juic', 'water', 'chili powder', 'passata', 'oil', 'cumin', 'boneless chicken skinless thigh', 'garam masala', 'doubl cream', 'natur yogurt', 'bay leaf'], ['plain flour', 'sugar', 'butter', 'egg', 'fresh ginger root', 'salt', 'cinnamon', 'milk', 'vanilla extract', 'ginger', 'powder sugar', 'bake powder'], ['oliv oil', 'salt', 'medium shrimp', 'pepper', 'garlic', 'chop cilantro', 'jalapeno chili', 'flat leaf parsley', 'skirt steak', 'white vinegar', 'sea salt', 'bay leaf', 'chorizo sausag'], ['sugar', 'pistachio nut', 'white almond bark', 'flour', 'vanilla extract', 'oliv oil', 'almond extract', 'egg', 'bake powder', 'dri cranberri'], ['oliv oil', 'purpl onion', 'fresh pineappl', 'pork', 'poblano pepper', 'corn tortilla', 'cheddar chees', 'black pepper', 'salt', 'iceberg lettuc', 'lime', 'jalapeno chili', 'chop cilantro fresh'], ['chop tomato', 'fresh basil', 'garlic', 'extravirgin oliv oil', 'kosher salt', 'flat leaf parsley']]\n"
     ]
    }
   ],
   "source": [
    "sentences = []\n",
    "\n",
    "for ingredients in df['ingredient_list_cleaned']:\n",
    "    cleaned_ing = []\n",
    "    for ingredient in ingredients:\n",
    "        ingredient = re.sub('r\\(.*oz\\)|minced|poweder|chopped|sliced|paste|crushed|ground|diced', '', ingredient)\n",
    "        cleaned_ing.append(ingredient.strip())\n",
    "    sentences.append(cleaned_ing)\n",
    "    \n",
    "print(len(sentences))\n",
    "print(sentences[:10])"
   ]
  },
  {
   "cell_type": "code",
   "execution_count": 85,
   "metadata": {},
   "outputs": [
    {
     "name": "stdout",
     "output_type": "stream",
     "text": [
      "Number of Ingredients - unqiue count\n",
      "mean = 64.24767476747675\n",
      "90th% percentile = 94.0\n",
      "70th% percentile = 14.0\n",
      "50th% percentile = 4.0\n",
      "30th% percentile = 2.0\n",
      "10th% percentile = 1.0\n",
      "\n",
      "\n",
      "Length of Sentences\n",
      "mean = 10.76771257605471\n",
      "90th% percentile = 17.0\n",
      "70th% percentile = 13.0\n",
      "50th% percentile = 10.0\n",
      "30th% percentile = 8.0\n",
      "10th% percentile = 6.0\n"
     ]
    }
   ],
   "source": [
    "keys = count_of_ingredient.keys()\n",
    "values = count_of_ingredient.values()\n",
    "\n",
    "import statistics\n",
    "\n",
    "print('Number of Ingredients - unqiue count')\n",
    "\n",
    "print(f'mean = {statistics.mean(values)}')\n",
    "\n",
    "print(f'90th% percentile = {np.quantile(list(values), 0.90)}')\n",
    "print(f'70th% percentile = {np.quantile(list(values), 0.70)}')\n",
    "print(f'50th% percentile = {np.quantile(list(values), 0.50)}')\n",
    "print(f'30th% percentile = {np.quantile(list(values), 0.30)}')\n",
    "print(f'10th% percentile = {np.quantile(list(values), 0.10)}\\n\\n')\n",
    "\n",
    "print('Length of Sentences')\n",
    "\n",
    "len_of_sentences = df['ingredient_list_cleaned'].apply(lambda x: len(x))\n",
    "\n",
    "print(f'mean = {statistics.mean(len_of_sentences)}')\n",
    "\n",
    "print(f'90th% percentile = {np.quantile(list(len_of_sentences), 0.90)}')\n",
    "print(f'70th% percentile = {np.quantile(list(len_of_sentences), 0.70)}')\n",
    "print(f'50th% percentile = {np.quantile(list(len_of_sentences), 0.50)}')\n",
    "print(f'30th% percentile = {np.quantile(list(len_of_sentences), 0.30)}')\n",
    "print(f'10th% percentile = {np.quantile(list(len_of_sentences), 0.10)}')"
   ]
  },
  {
   "cell_type": "code",
   "execution_count": 86,
   "metadata": {},
   "outputs": [],
   "source": [
    "num_of_features = 250 # Dimensionality of the word vectors.\n",
    "\n",
    "min_word_count = 4 # Ignores all words with total frequency lower than this.\n",
    "\n",
    "num_workers = 4 # Use these many worker threads to train the model\n",
    "\n",
    "window_context = 6 # Maximum distance between the current and predicted word within a sentence.\n",
    "\n",
    "sample = 1e-3 # The threshold for configuring which higher-frequency words are randomly downsampled."
   ]
  },
  {
   "cell_type": "code",
   "execution_count": 87,
   "metadata": {},
   "outputs": [],
   "source": [
    "model = word2vec.Word2Vec(sentences, size=num_of_features,\n",
    "                          min_count=min_word_count, workers=num_workers,\n",
    "                          window=window_context, sample=sample)"
   ]
  },
  {
   "cell_type": "code",
   "execution_count": 94,
   "metadata": {},
   "outputs": [
    {
     "data": {
      "text/plain": [
       "[('tomatillo', 0.9582901000976562),\n",
       " ('poblano chile', 0.9379202723503113),\n",
       " ('mexican oregano', 0.9372552037239075),\n",
       " ('adobo sauc', 0.934597373008728),\n",
       " ('avocado', 0.9309493899345398),\n",
       " ('chipotl adobo', 0.9251047372817993),\n",
       " ('queso fresco', 0.9249072074890137),\n",
       " ('corn tortilla', 0.9243230223655701),\n",
       " ('cotija', 0.9241731762886047),\n",
       " ('poblano pepper', 0.9112868309020996)]"
      ]
     },
     "execution_count": 94,
     "metadata": {},
     "output_type": "execute_result"
    }
   ],
   "source": [
    "model.wv.most_similar('jalapeno chili')"
   ]
  },
  {
   "cell_type": "code",
   "execution_count": 95,
   "metadata": {},
   "outputs": [
    {
     "data": {
      "text/plain": [
       "0.055928193"
      ]
     },
     "execution_count": 95,
     "metadata": {},
     "output_type": "execute_result"
    }
   ],
   "source": [
    "model.wv.similarity('fresh pineappl', 'milk')"
   ]
  },
  {
   "cell_type": "code",
   "execution_count": null,
   "metadata": {},
   "outputs": [],
   "source": []
  }
 ],
 "metadata": {
  "kernelspec": {
   "display_name": "Python 3",
   "language": "python",
   "name": "python3"
  },
  "language_info": {
   "codemirror_mode": {
    "name": "ipython",
    "version": 3
   },
   "file_extension": ".py",
   "mimetype": "text/x-python",
   "name": "python",
   "nbconvert_exporter": "python",
   "pygments_lexer": "ipython3",
   "version": "3.7.9"
  }
 },
 "nbformat": 4,
 "nbformat_minor": 4
}

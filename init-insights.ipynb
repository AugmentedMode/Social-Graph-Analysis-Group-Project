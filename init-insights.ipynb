{
 "cells": [
  {
   "cell_type": "markdown",
   "metadata": {},
   "source": [
    "# Social Graph Analysis Group Project\n",
    "\n",
    "### Grandma’s Cookbook, Lookbook: An Analysis of Ingredients Association With Ethnic Cuisines\n",
    "\n",
    "#### Group Members:\n",
    "* Nick Potts\n",
    "* Kristi Conry\n",
    "* Jacob Lebowitz\n",
    "* Anthony Bryson"
   ]
  },
  {
   "cell_type": "markdown",
   "metadata": {},
   "source": [
    "### Possible Goals :)\n",
    "\n",
    "1) Predict popular cuisine's based on what ingediants you have <br>\n",
    "2) Essential ingrediants if you like a favorite cuisine <br>\n",
    "3) Ingrediant recommendation system ( if you lke 3 types of cuisine find top similar ingrediants ) \n",
    "\n",
    "### Just some questions for our data :)\n",
    "\n",
    "1) Which cuisine's are most similar based on ingediants? and why?"
   ]
  },
  {
   "cell_type": "code",
   "execution_count": 1,
   "metadata": {},
   "outputs": [],
   "source": [
    "import pandas as pd\n",
    "import numpy as np\n",
    "\n",
    "import matplotlib.pyplot as plt\n",
    "import seaborn as sns\n",
    "\n",
    "import json\n",
    "import collections\n",
    "import re\n",
    "import pickle\n",
    "import statistics\n",
    "\n",
    "from gensim.models import word2vec\n",
    "\n",
    "# Modelling Helpers, see above the description\n",
    "from sklearn.manifold import TSNE\n",
    "\n",
    "import nltk\n",
    "from nltk.tokenize import sent_tokenize, word_tokenize\n",
    "from nltk.corpus import stopwords, wordnet\n",
    "from nltk.stem import PorterStemmer, WordNetLemmatizer"
   ]
  },
  {
   "cell_type": "code",
   "execution_count": 2,
   "metadata": {},
   "outputs": [],
   "source": [
    "df = pd.read_csv('data/cleaned_data.csv', converters={'ingredient_list_cleaned': lambda x: x[1:-1].replace(\"'\", '').split(','),\n",
    "                                                      'ingredients': lambda x: x[1:-1].replace(\"'\", '').split(',')})"
   ]
  },
  {
   "cell_type": "code",
   "execution_count": 3,
   "metadata": {},
   "outputs": [
    {
     "data": {
      "text/html": [
       "<div>\n",
       "<style scoped>\n",
       "    .dataframe tbody tr th:only-of-type {\n",
       "        vertical-align: middle;\n",
       "    }\n",
       "\n",
       "    .dataframe tbody tr th {\n",
       "        vertical-align: top;\n",
       "    }\n",
       "\n",
       "    .dataframe thead th {\n",
       "        text-align: right;\n",
       "    }\n",
       "</style>\n",
       "<table border=\"1\" class=\"dataframe\">\n",
       "  <thead>\n",
       "    <tr style=\"text-align: right;\">\n",
       "      <th></th>\n",
       "      <th>id</th>\n",
       "      <th>cuisine</th>\n",
       "      <th>ingredients</th>\n",
       "      <th>ingredients_sentence</th>\n",
       "      <th>ingredient_cleaned</th>\n",
       "      <th>ingredient_list_cleaned</th>\n",
       "    </tr>\n",
       "  </thead>\n",
       "  <tbody>\n",
       "    <tr>\n",
       "      <th>0</th>\n",
       "      <td>10259</td>\n",
       "      <td>greek</td>\n",
       "      <td>[romaine lettuce,  black olives,  grape tomato...</td>\n",
       "      <td>romaine lettuce black olives grape tomatoes ga...</td>\n",
       "      <td>romain lettuc black oliv grape tomato garlic p...</td>\n",
       "      <td>[romain lettuc,  black oliv,  grape tomato,  g...</td>\n",
       "    </tr>\n",
       "    <tr>\n",
       "      <th>1</th>\n",
       "      <td>25693</td>\n",
       "      <td>southern_us</td>\n",
       "      <td>[plain flour,  ground pepper,  salt,  tomatoes...</td>\n",
       "      <td>plain flour ground pepper salt tomatoes ground...</td>\n",
       "      <td>plain flour ground pepper salt tomato ground b...</td>\n",
       "      <td>[plain flour,  ground pepper,  salt,  tomato, ...</td>\n",
       "    </tr>\n",
       "    <tr>\n",
       "      <th>2</th>\n",
       "      <td>20130</td>\n",
       "      <td>filipino</td>\n",
       "      <td>[eggs,  pepper,  salt,  mayonaise,  cooking oi...</td>\n",
       "      <td>eggs pepper salt mayonaise cooking oil green c...</td>\n",
       "      <td>egg pepper salt mayonais cook oil green chili ...</td>\n",
       "      <td>[egg,  pepper,  salt,  mayonais,  cook oil,  g...</td>\n",
       "    </tr>\n",
       "    <tr>\n",
       "      <th>3</th>\n",
       "      <td>22213</td>\n",
       "      <td>indian</td>\n",
       "      <td>[water,  vegetable oil,  wheat,  salt]</td>\n",
       "      <td>water vegetable oil wheat salt</td>\n",
       "      <td>water veget oil wheat salt</td>\n",
       "      <td>[water,  veget oil,  wheat,  salt]</td>\n",
       "    </tr>\n",
       "    <tr>\n",
       "      <th>4</th>\n",
       "      <td>13162</td>\n",
       "      <td>indian</td>\n",
       "      <td>[black pepper,  shallots,  cornflour,  cayenne...</td>\n",
       "      <td>black pepper shallots cornflour cayenne pepper...</td>\n",
       "      <td>black pepper shallot cornflour cayenn pepper o...</td>\n",
       "      <td>[black pepper,  shallot,  cornflour,  cayenn p...</td>\n",
       "    </tr>\n",
       "  </tbody>\n",
       "</table>\n",
       "</div>"
      ],
      "text/plain": [
       "      id      cuisine                                        ingredients  \\\n",
       "0  10259        greek  [romaine lettuce,  black olives,  grape tomato...   \n",
       "1  25693  southern_us  [plain flour,  ground pepper,  salt,  tomatoes...   \n",
       "2  20130     filipino  [eggs,  pepper,  salt,  mayonaise,  cooking oi...   \n",
       "3  22213       indian             [water,  vegetable oil,  wheat,  salt]   \n",
       "4  13162       indian  [black pepper,  shallots,  cornflour,  cayenne...   \n",
       "\n",
       "                                ingredients_sentence  \\\n",
       "0  romaine lettuce black olives grape tomatoes ga...   \n",
       "1  plain flour ground pepper salt tomatoes ground...   \n",
       "2  eggs pepper salt mayonaise cooking oil green c...   \n",
       "3                     water vegetable oil wheat salt   \n",
       "4  black pepper shallots cornflour cayenne pepper...   \n",
       "\n",
       "                                  ingredient_cleaned  \\\n",
       "0  romain lettuc black oliv grape tomato garlic p...   \n",
       "1  plain flour ground pepper salt tomato ground b...   \n",
       "2  egg pepper salt mayonais cook oil green chili ...   \n",
       "3                         water veget oil wheat salt   \n",
       "4  black pepper shallot cornflour cayenn pepper o...   \n",
       "\n",
       "                             ingredient_list_cleaned  \n",
       "0  [romain lettuc,  black oliv,  grape tomato,  g...  \n",
       "1  [plain flour,  ground pepper,  salt,  tomato, ...  \n",
       "2  [egg,  pepper,  salt,  mayonais,  cook oil,  g...  \n",
       "3                 [water,  veget oil,  wheat,  salt]  \n",
       "4  [black pepper,  shallot,  cornflour,  cayenn p...  "
      ]
     },
     "execution_count": 3,
     "metadata": {},
     "output_type": "execute_result"
    }
   ],
   "source": [
    "df.head()"
   ]
  },
  {
   "cell_type": "code",
   "execution_count": 4,
   "metadata": {},
   "outputs": [
    {
     "data": {
      "text/plain": [
       "italian         7838\n",
       "mexican         6438\n",
       "southern_us     4320\n",
       "indian          3003\n",
       "chinese         2673\n",
       "french          2646\n",
       "cajun_creole    1546\n",
       "thai            1539\n",
       "japanese        1423\n",
       "greek           1175\n",
       "spanish          989\n",
       "korean           830\n",
       "vietnamese       825\n",
       "moroccan         821\n",
       "british          804\n",
       "filipino         755\n",
       "irish            667\n",
       "jamaican         526\n",
       "russian          489\n",
       "brazilian        467\n",
       "Name: cuisine, dtype: int64"
      ]
     },
     "execution_count": 4,
     "metadata": {},
     "output_type": "execute_result"
    }
   ],
   "source": [
    "df['cuisine'].value_counts()"
   ]
  },
  {
   "cell_type": "code",
   "execution_count": 5,
   "metadata": {},
   "outputs": [
    {
     "data": {
      "text/plain": [
       "[('salt', 18049),\n",
       " ('onion', 7972),\n",
       " ('oliv oil', 7972),\n",
       " ('water', 7457),\n",
       " ('garlic', 7380),\n",
       " ('sugar', 6434),\n",
       " ('garlic clove', 6237),\n",
       " ('butter', 4848),\n",
       " ('ground black pepper', 4785),\n",
       " ('allpurpos flour', 4632)]"
      ]
     },
     "execution_count": 5,
     "metadata": {},
     "output_type": "execute_result"
    }
   ],
   "source": [
    "real_ingredients = []\n",
    "\n",
    "for ingredients in df['ingredient_list_cleaned']:\n",
    "    for ingredient in ingredients:\n",
    "        real_ingredients.append(ingredient.strip())\n",
    "        \n",
    "count_of_ingredient = collections.Counter(real_ingredients)\n",
    "count_of_ingredient.most_common(10)"
   ]
  },
  {
   "cell_type": "code",
   "execution_count": 6,
   "metadata": {},
   "outputs": [
    {
     "data": {
      "text/plain": [
       "6666"
      ]
     },
     "execution_count": 6,
     "metadata": {},
     "output_type": "execute_result"
    }
   ],
   "source": [
    "len(count_of_ingredient.keys())"
   ]
  },
  {
   "cell_type": "code",
   "execution_count": 7,
   "metadata": {},
   "outputs": [
    {
     "name": "stderr",
     "output_type": "stream",
     "text": [
      "/Library/Frameworks/Python.framework/Versions/3.7/lib/python3.7/site-packages/seaborn/_decorators.py:43: FutureWarning: Pass the following variable as a keyword arg: x. From version 0.12, the only valid positional argument will be `data`, and passing other arguments without an explicit keyword will result in an error or misinterpretation.\n",
      "  FutureWarning\n"
     ]
    },
    {
     "data": {
      "text/plain": [
       "<AxesSubplot:xlabel='cuisine', ylabel='count'>"
      ]
     },
     "execution_count": 7,
     "metadata": {},
     "output_type": "execute_result"
    },
    {
     "data": {
      "image/png": "[encoded data removed]",
      "text/plain": [
       "<Figure size 720x432 with 1 Axes>"
      ]
     },
     "metadata": {
      "needs_background": "light"
     },
     "output_type": "display_data"
    }
   ],
   "source": [
    "fig = plt.figure(figsize=[10,6])\n",
    "\n",
    "plt.xticks(rotation=70)\n",
    "\n",
    "sns.countplot(df['cuisine'])"
   ]
  },
  {
   "cell_type": "code",
   "execution_count": 8,
   "metadata": {},
   "outputs": [],
   "source": [
    "count_of_ingredient_ordered = sorted(count_of_ingredient.items(), key=lambda x: x[1], reverse=True)"
   ]
  },
  {
   "cell_type": "code",
   "execution_count": 9,
   "metadata": {},
   "outputs": [
    {
     "data": {
      "text/plain": [
       "<AxesSubplot:>"
      ]
     },
     "execution_count": 9,
     "metadata": {},
     "output_type": "execute_result"
    },
    {
     "data": {
      "image/png": "[encoded data removed]",
      "text/plain": [
       "<Figure size 1152x576 with 1 Axes>"
      ]
     },
     "metadata": {
      "needs_background": "light"
     },
     "output_type": "display_data"
    }
   ],
   "source": [
    "count_of_ingredient.most_common(10)\n",
    "\n",
    "ingredients = []\n",
    "counter = []\n",
    "\n",
    "for counted_ingredients in count_of_ingredient.most_common(40):\n",
    "    ingredients.append(counted_ingredients[0])\n",
    "    counter.append(counted_ingredients[1])\n",
    "    \n",
    "fig = plt.figure(figsize=[16,8])\n",
    "\n",
    "plt.xticks(rotation=70)\n",
    "\n",
    "sns.barplot(x=ingredients, y=counter)"
   ]
  },
  {
   "cell_type": "code",
   "execution_count": 10,
   "metadata": {},
   "outputs": [
    {
     "name": "stdout",
     "output_type": "stream",
     "text": [
      "39774\n",
      "[['romain lettuc', 'black oliv', 'grape tomato', 'garlic', 'pepper', 'purpl onion', 'season', 'garbanzo bean', 'feta chees crumbl'], ['plain flour', 'pepper', 'salt', 'tomato', 'black pepper', 'thyme', 'egg', 'green tomato', 'yellow corn meal', 'milk', 'veget oil'], ['egg', 'pepper', 'salt', 'mayonais', 'cook oil', 'green chili', 'grill chicken breast', 'garlic powder', 'yellow onion', 'soy sauc', 'butter', 'chicken liver'], ['water', 'veget oil', 'wheat', 'salt'], ['black pepper', 'shallot', 'cornflour', 'cayenn pepper', 'onion', 'garlic past', 'milk', 'butter', 'salt', 'lemon juic', 'water', 'chili powder', 'passata', 'oil', 'cumin', 'boneless chicken skinless thigh', 'garam masala', 'doubl cream', 'natur yogurt', 'bay leaf'], ['plain flour', 'sugar', 'butter', 'egg', 'fresh ginger root', 'salt', 'cinnamon', 'milk', 'vanilla extract', 'ginger', 'powder sugar', 'bake powder'], ['oliv oil', 'salt', 'medium shrimp', 'pepper', 'garlic', 'chop cilantro', 'jalapeno chili', 'flat leaf parsley', 'skirt steak', 'white vinegar', 'sea salt', 'bay leaf', 'chorizo sausag'], ['sugar', 'pistachio nut', 'white almond bark', 'flour', 'vanilla extract', 'oliv oil', 'almond extract', 'egg', 'bake powder', 'dri cranberri'], ['oliv oil', 'purpl onion', 'fresh pineappl', 'pork', 'poblano pepper', 'corn tortilla', 'cheddar chees', 'black pepper', 'salt', 'iceberg lettuc', 'lime', 'jalapeno chili', 'chop cilantro fresh'], ['chop tomato', 'fresh basil', 'garlic', 'extravirgin oliv oil', 'kosher salt', 'flat leaf parsley']]\n"
     ]
    }
   ],
   "source": [
    "sentences = []\n",
    "\n",
    "for ingredients in df['ingredient_list_cleaned']:\n",
    "    cleaned_ing = []\n",
    "    for ingredient in ingredients:\n",
    "        ingredient = re.sub('r\\(.*oz\\)|minced|poweder|chopped|sliced|paste|crushed|ground|diced', '', ingredient)\n",
    "        cleaned_ing.append(ingredient.strip())\n",
    "    sentences.append(cleaned_ing)\n",
    "    \n",
    "print(len(sentences))\n",
    "print(sentences[:10])"
   ]
  },
  {
   "cell_type": "code",
   "execution_count": 11,
   "metadata": {},
   "outputs": [
    {
     "name": "stdout",
     "output_type": "stream",
     "text": [
      "<class 'pandas.core.series.Series'>\n",
      "count    39774.000000\n",
      "mean        10.767713\n",
      "std          4.428978\n",
      "min          1.000000\n",
      "25%          8.000000\n",
      "50%         10.000000\n",
      "75%         13.000000\n",
      "max         65.000000\n",
      "Name: ingredient_list_cleaned, dtype: float64\n"
     ]
    },
    {
     "data": {
      "text/plain": [
       "{'whiskers': [<matplotlib.lines.Line2D at 0x7f8e681f5fd0>,\n",
       "  <matplotlib.lines.Line2D at 0x7f8e681fc450>],\n",
       " 'caps': [<matplotlib.lines.Line2D at 0x7f8e681fc890>,\n",
       "  <matplotlib.lines.Line2D at 0x7f8e681fccd0>],\n",
       " 'boxes': [<matplotlib.lines.Line2D at 0x7f8e681f5c50>],\n",
       " 'medians': [<matplotlib.lines.Line2D at 0x7f8e6820a190>],\n",
       " 'fliers': [],\n",
       " 'means': []}"
      ]
     },
     "execution_count": 11,
     "metadata": {},
     "output_type": "execute_result"
    },
    {
     "data": {
      "image/png": "[encoded data removed]",
      "text/plain": [
       "<Figure size 432x288 with 1 Axes>"
      ]
     },
     "metadata": {
      "needs_background": "light"
     },
     "output_type": "display_data"
    },
    {
     "data": {
      "image/png": "[encoded data removed]",
      "text/plain": [
       "<Figure size 432x288 with 1 Axes>"
      ]
     },
     "metadata": {
      "needs_background": "light"
     },
     "output_type": "display_data"
    },
    {
     "data": {
      "image/png": "[encoded data removed]",
      "text/plain": [
       "<Figure size 432x288 with 1 Axes>"
      ]
     },
     "metadata": {
      "needs_background": "light"
     },
     "output_type": "display_data"
    },
    {
     "data": {
      "image/png": "[encoded data removed]",
      "text/plain": [
       "<Figure size 432x288 with 1 Axes>"
      ]
     },
     "metadata": {
      "needs_background": "light"
     },
     "output_type": "display_data"
    }
   ],
   "source": [
    "keys = count_of_ingredient.keys()\n",
    "values = count_of_ingredient.values()\n",
    "\n",
    "fig1, ax1 = plt.subplots()\n",
    "ax1.set_title('Number of Ingredients')\n",
    "ax1.boxplot(list(values), showfliers=False)\n",
    "\n",
    "len_of_sentences = df['ingredient_list_cleaned'].apply(lambda x: len(x))\n",
    "print(type(len_of_sentences))\n",
    "print(len_of_sentences.describe())\n",
    "\n",
    "fig2, ax2 = plt.subplots()\n",
    "ax2.set_title('Length of Sentences')\n",
    "ax2.boxplot(len_of_sentences, showfliers=False)"
   ]
  },
  {
   "cell_type": "code",
   "execution_count": 12,
   "metadata": {},
   "outputs": [],
   "source": [
    "num_of_features = 250 # Dimensionality of the word vectors.\n",
    "\n",
    "min_word_count = 4 # Ignores all words with total frequency lower than this.\n",
    "\n",
    "num_workers = 4 # Use these many worker threads to train the model\n",
    "\n",
    "window_context = 6 # Maximum distance between the current and predicted word within a sentence.\n",
    "\n",
    "sample = 1e-3 # The threshold for configuring which higher-frequency words are randomly downsampled."
   ]
  },
  {
   "cell_type": "code",
   "execution_count": 13,
   "metadata": {},
   "outputs": [],
   "source": [
    "model = word2vec.Word2Vec(sentences, size=num_of_features,\n",
    "                          min_count=min_word_count, workers=num_workers,\n",
    "                          window=window_context, sample=sample)"
   ]
  },
  {
   "cell_type": "code",
   "execution_count": 14,
   "metadata": {},
   "outputs": [
    {
     "data": {
      "text/plain": [
       "[('tomatillo', 0.9685553312301636),\n",
       " ('mexican oregano', 0.9416314959526062),\n",
       " ('poblano chile', 0.9410315155982971),\n",
       " ('cotija', 0.9363477826118469),\n",
       " ('avocado', 0.9353494644165039),\n",
       " ('queso fresco', 0.9333447813987732),\n",
       " ('adobo sauc', 0.9332524538040161),\n",
       " ('salsa verd', 0.9235442876815796),\n",
       " ('corn tortilla', 0.9217793345451355),\n",
       " ('chipotl adobo', 0.9203957915306091)]"
      ]
     },
     "execution_count": 14,
     "metadata": {},
     "output_type": "execute_result"
    }
   ],
   "source": [
    "model.wv.most_similar('jalapeno chili')"
   ]
  },
  {
   "cell_type": "code",
   "execution_count": 15,
   "metadata": {},
   "outputs": [
    {
     "data": {
      "text/plain": [
       "-0.016501987"
      ]
     },
     "execution_count": 15,
     "metadata": {},
     "output_type": "execute_result"
    }
   ],
   "source": [
    "model.wv.similarity('fresh pineappl', 'milk')"
   ]
  },
  {
   "cell_type": "code",
   "execution_count": 16,
   "metadata": {},
   "outputs": [],
   "source": [
    "def display_closestwords_tsnescatterplot(model, word):\n",
    "    \n",
    "    arr = np.empty((0,250), dtype='f')\n",
    "    word_labels = [word]\n",
    "\n",
    "    # get close words\n",
    "    close_words = model.similar_by_word(word)\n",
    "    \n",
    "    # add the vector for each of the closest words to the array\n",
    "    arr = np.append(arr, np.array([model[word]]), axis=0)\n",
    "    for wrd_score in close_words:\n",
    "        wrd_vector = model[wrd_score[0]]\n",
    "        word_labels.append(wrd_score[0])\n",
    "        arr = np.append(arr, np.array([wrd_vector]), axis=0)\n",
    "        \n",
    "    # find tsne coords for 2 dimensions\n",
    "    tsne = TSNE(n_components=2, random_state=0)\n",
    "    np.set_printoptions(suppress=True)\n",
    "    Y = tsne.fit_transform(arr)\n",
    "\n",
    "    x_coords = Y[:, 0]\n",
    "    y_coords = Y[:, 1]\n",
    "    # display scatter plot\n",
    "    \n",
    "    plt.scatter(x_coords, y_coords)\n",
    "\n",
    "    for label, x, y in zip(word_labels, x_coords, y_coords):\n",
    "        plt.annotate(label, xy=(x, y), xytext=(0, 0), textcoords='offset points')\n",
    "    plt.xlim(x_coords.min()+0.00005, x_coords.max()+0.00005)\n",
    "    plt.ylim(y_coords.min()+0.00005, y_coords.max()+0.00005)\n",
    "    plt.show()"
   ]
  },
  {
   "cell_type": "code",
   "execution_count": 17,
   "metadata": {},
   "outputs": [
    {
     "data": {
      "text/plain": [
       "[('yellow bell pepper', 0.8963391184806824),\n",
       " ('orang bell pepper', 0.8947079181671143),\n",
       " ('grape tomato', 0.8755167722702026),\n",
       " ('cherri tomato', 0.8659077882766724),\n",
       " ('avocado', 0.8522924780845642),\n",
       " ('jicama', 0.8486484885215759),\n",
       " ('roma tomato', 0.8479711413383484),\n",
       " ('cook chicken breast', 0.8470381498336792),\n",
       " ('bake tortilla chip', 0.839743435382843),\n",
       " ('jalap', 0.838983416557312)]"
      ]
     },
     "execution_count": 17,
     "metadata": {},
     "output_type": "execute_result"
    }
   ],
   "source": [
    "model.wv.most_similar('romain lettuc')"
   ]
  },
  {
   "cell_type": "code",
   "execution_count": 18,
   "metadata": {},
   "outputs": [
    {
     "name": "stderr",
     "output_type": "stream",
     "text": [
      "/Library/Frameworks/Python.framework/Versions/3.7/lib/python3.7/site-packages/ipykernel_launcher.py:7: DeprecationWarning: Call to deprecated `similar_by_word` (Method will be removed in 4.0.0, use self.wv.similar_by_word() instead).\n",
      "  import sys\n",
      "/Library/Frameworks/Python.framework/Versions/3.7/lib/python3.7/site-packages/ipykernel_launcher.py:10: DeprecationWarning: Call to deprecated `__getitem__` (Method will be removed in 4.0.0, use self.wv.__getitem__() instead).\n",
      "  # Remove the CWD from sys.path while we load stuff.\n",
      "/Library/Frameworks/Python.framework/Versions/3.7/lib/python3.7/site-packages/ipykernel_launcher.py:12: DeprecationWarning: Call to deprecated `__getitem__` (Method will be removed in 4.0.0, use self.wv.__getitem__() instead).\n",
      "  if sys.path[0] == '':\n"
     ]
    },
    {
     "data": {
      "image/png": "[encoded data removed]",
      "text/plain": [
       "<Figure size 432x288 with 1 Axes>"
      ]
     },
     "metadata": {
      "needs_background": "light"
     },
     "output_type": "display_data"
    }
   ],
   "source": [
    "display_closestwords_tsnescatterplot(model, 'romain lettuc')"
   ]
  },
  {
   "cell_type": "code",
   "execution_count": 19,
   "metadata": {},
   "outputs": [
    {
     "name": "stderr",
     "output_type": "stream",
     "text": [
      "/Library/Frameworks/Python.framework/Versions/3.7/lib/python3.7/site-packages/ipykernel_launcher.py:6: DeprecationWarning: Call to deprecated `__getitem__` (Method will be removed in 4.0.0, use self.wv.__getitem__() instead).\n",
      "  \n"
     ]
    },
    {
     "data": {
      "text/plain": [
       "\"\\nplt.figure(figsize=(16, 16)) \\nfor i in range(len(x)):\\n    plt.scatter(x[i],y[i])\\n    #plt.annotate('',\\n     #            xy=(x[i], y[i]),\\n      #           xytext=(5, 2),\\n       #          textcoords='offset points',\\n        #         ha='right',\\n         #        va='bottom')\\nplt.show()\\n\""
      ]
     },
     "execution_count": 19,
     "metadata": {},
     "output_type": "execute_result"
    }
   ],
   "source": [
    "    \"Creates and TSNE model and plots it\"\n",
    "    labels = []\n",
    "    tokens = []\n",
    "\n",
    "    for word in model.wv.vocab:\n",
    "        tokens.append(model[word])\n",
    "        labels.append(word)\n",
    "        \n",
    "    #print(tokens[:5])\n",
    "    #print(labels[:5])\n",
    "    \n",
    "    tsne_model = TSNE(perplexity=40, n_components=2, init='pca', n_iter=2500, random_state=23)\n",
    "    '''\n",
    "    tool to visualize high-dimensional data. It converts similarities between data points to joint\n",
    "    probabilities and tries to minimize the Kullback-Leibler divergence between the joint probabilities \n",
    "    of the low-dimensional embedding and the high-dimensional data\n",
    "    '''\n",
    "    new_values = tsne_model.fit_transform(tokens)\n",
    "    #print(new_values)\n",
    "    #print(new_values[:5])\n",
    "    \n",
    "    x = []\n",
    "    y = []\n",
    "    for value in new_values:\n",
    "        x.append(value[0])\n",
    "        y.append(value[1])\n",
    "    \n",
    "    \n",
    "    #print(x[0])\n",
    "    #print(y[0])\n",
    "    '''\n",
    "    plt.figure(figsize=(16, 16)) \n",
    "    for i in range(len(x)):\n",
    "        plt.scatter(x[i],y[i])\n",
    "        #plt.annotate('',\n",
    "         #            xy=(x[i], y[i]),\n",
    "          #           xytext=(5, 2),\n",
    "           #          textcoords='offset points',\n",
    "            #         ha='right',\n",
    "             #        va='bottom')\n",
    "    plt.show()\n",
    "    '''"
   ]
  },
  {
   "cell_type": "code",
   "execution_count": 20,
   "metadata": {},
   "outputs": [
    {
     "ename": "NameError",
     "evalue": "name 'X_train' is not defined",
     "output_type": "error",
     "traceback": [
      "\u001b[0;31m---------------------------------------------------------------------------\u001b[0m",
      "\u001b[0;31mNameError\u001b[0m                                 Traceback (most recent call last)",
      "\u001b[0;32m<ipython-input-20-c5037e3b7711>\u001b[0m in \u001b[0;36m<module>\u001b[0;34m\u001b[0m\n\u001b[1;32m      1\u001b[0m \u001b[0;32mfrom\u001b[0m \u001b[0msklearn\u001b[0m\u001b[0;34m.\u001b[0m\u001b[0mneighbors\u001b[0m \u001b[0;32mimport\u001b[0m \u001b[0mKNeighborsClassifier\u001b[0m\u001b[0;34m\u001b[0m\u001b[0;34m\u001b[0m\u001b[0m\n\u001b[1;32m      2\u001b[0m \u001b[0mclassifier\u001b[0m \u001b[0;34m=\u001b[0m \u001b[0mKNeighborsClassifier\u001b[0m\u001b[0;34m(\u001b[0m\u001b[0mn_neighbors\u001b[0m\u001b[0;34m=\u001b[0m\u001b[0;36m5\u001b[0m\u001b[0;34m)\u001b[0m\u001b[0;34m\u001b[0m\u001b[0;34m\u001b[0m\u001b[0m\n\u001b[0;32m----> 3\u001b[0;31m \u001b[0mclassifier\u001b[0m\u001b[0;34m.\u001b[0m\u001b[0mfit\u001b[0m\u001b[0;34m(\u001b[0m\u001b[0mX_train\u001b[0m\u001b[0;34m,\u001b[0m \u001b[0my_train\u001b[0m\u001b[0;34m)\u001b[0m\u001b[0;34m\u001b[0m\u001b[0;34m\u001b[0m\u001b[0m\n\u001b[0m",
      "\u001b[0;31mNameError\u001b[0m: name 'X_train' is not defined"
     ]
    }
   ],
   "source": [
    "from sklearn.neighbors import KNeighborsClassifier\n",
    "classifier = KNeighborsClassifier(n_neighbors=5)\n",
    "classifier.fit(X_train, y_train)"
   ]
  },
  {
   "cell_type": "code",
   "execution_count": 21,
   "metadata": {},
   "outputs": [
    {
     "data": {
      "text/plain": [
       "[('yellow bell pepper', 0.8963391184806824),\n",
       " ('orang bell pepper', 0.8947079181671143),\n",
       " ('grape tomato', 0.8755167722702026),\n",
       " ('cherri tomato', 0.8659077882766724),\n",
       " ('avocado', 0.8522924780845642),\n",
       " ('jicama', 0.8486484885215759),\n",
       " ('roma tomato', 0.8479711413383484),\n",
       " ('cook chicken breast', 0.8470381498336792),\n",
       " ('bake tortilla chip', 0.839743435382843),\n",
       " ('jalap', 0.838983416557312)]"
      ]
     },
     "execution_count": 21,
     "metadata": {},
     "output_type": "execute_result"
    }
   ],
   "source": [
    "model.wv.most_similar('romain lettuc')"
   ]
  },
  {
   "cell_type": "code",
   "execution_count": 22,
   "metadata": {},
   "outputs": [],
   "source": [
    "# 1) User Search for Ingredient that they enjoy --> Once Found reeccomend ingredients"
   ]
  },
  {
   "cell_type": "code",
   "execution_count": 23,
   "metadata": {},
   "outputs": [],
   "source": [
    "from gensim.models import Word2Vec, KeyedVectors   \n",
    "model.wv.save_word2vec_format('model.bin', binary=True)"
   ]
  },
  {
   "cell_type": "code",
   "execution_count": 24,
   "metadata": {},
   "outputs": [],
   "source": [
    "model.save(\"model.model\")"
   ]
  },
  {
   "cell_type": "code",
   "execution_count": 37,
   "metadata": {},
   "outputs": [],
   "source": [
    "ingred = []\n",
    "for key, value in count_of_ingredient.items():\n",
    "    if value > 4:\n",
    "        ingred.append(key)"
   ]
  },
  {
   "cell_type": "code",
   "execution_count": 40,
   "metadata": {},
   "outputs": [
    {
     "data": {
      "text/plain": [
       "3329"
      ]
     },
     "execution_count": 40,
     "metadata": {},
     "output_type": "execute_result"
    }
   ],
   "source": [
    "len(ingred)"
   ]
  },
  {
   "cell_type": "code",
   "execution_count": 43,
   "metadata": {},
   "outputs": [],
   "source": [
    "import pickle"
   ]
  },
  {
   "cell_type": "code",
   "execution_count": 44,
   "metadata": {},
   "outputs": [],
   "source": [
    "with open('ingred_list.pkl', 'wb') as f:\n",
    "    pickle.dump(ingred, f)"
   ]
  },
  {
   "cell_type": "code",
   "execution_count": null,
   "metadata": {},
   "outputs": [],
   "source": []
  }
 ],
 "metadata": {
  "kernelspec": {
   "display_name": "Python 3",
   "language": "python",
   "name": "python3"
  },
  "language_info": {
   "codemirror_mode": {
    "name": "ipython",
    "version": 3
   },
   "file_extension": ".py",
   "mimetype": "text/x-python",
   "name": "python",
   "nbconvert_exporter": "python",
   "pygments_lexer": "ipython3",
   "version": "3.7.9"
  }
 },
 "nbformat": 4,
 "nbformat_minor": 4
}

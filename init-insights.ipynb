{
 "cells": [
  {
   "cell_type": "markdown",
   "metadata": {},
   "source": [
    "# Social Graph Analysis Group Project\n",
    "\n",
    "### Grandma’s Cookbook, Lookbook: An Analysis of Ingredients Association With Ethnic Cuisines\n",
    "\n",
    "#### Group Members:\n",
    "* Nick Potts\n",
    "* Kristi Conry\n",
    "* Jacob Lebowitz\n",
    "* Anthony Bryson"
   ]
  },
  {
   "cell_type": "markdown",
   "metadata": {},
   "source": [
    "### Possible Goals :)\n",
    "\n",
    "1) Predict popular cuisine's based on what ingediants you have <br>\n",
    "2) Essential ingrediants if you like a favorite cuisine <br>\n",
    "3) Ingrediant recommendation system ( if you lke 3 types of cuisine find top similar ingrediants ) \n",
    "\n",
    "### Just some questions for our data :)\n",
    "\n",
    "1) Which cuisine's are most similar based on ingediants? and why?"
   ]
  },
  {
   "cell_type": "code",
   "execution_count": 87,
   "metadata": {},
   "outputs": [],
   "source": [
    "import pandas as pd\n",
    "import numpy as np\n",
    "\n",
    "import matplotlib.pyplot as plt\n",
    "import seaborn as sns\n",
    "\n",
    "import json\n",
    "import collections\n",
    "import re\n",
    "import pickle\n",
    "import statistics\n",
    "\n",
    "from gensim.models import word2vec\n",
    "\n",
    "# Modelling Helpers, see above the description\n",
    "from sklearn.manifold import TSNE\n",
    "\n",
    "import nltk\n",
    "from nltk.tokenize import sent_tokenize, word_tokenize\n",
    "from nltk.corpus import stopwords, wordnet\n",
    "from nltk.stem import PorterStemmer, WordNetLemmatizer"
   ]
  },
  {
   "cell_type": "code",
   "execution_count": 92,
   "metadata": {},
   "outputs": [],
   "source": [
    "df = pd.read_csv('data/cleaned_data.csv', converters={'ingredient_list_cleaned': lambda x: x[1:-1].replace(\"'\", '').split(','),\n",
    "                                                      'ingredients': lambda x: x[1:-1].replace(\"'\", '').split(',')})"
   ]
  },
  {
   "cell_type": "code",
   "execution_count": null,
   "metadata": {},
   "outputs": [],
   "source": [
    "df.head()"
   ]
  },
  {
   "cell_type": "code",
   "execution_count": 93,
   "metadata": {},
   "outputs": [
    {
     "data": {
      "text/plain": [
       "italian         7838\n",
       "mexican         6438\n",
       "southern_us     4320\n",
       "indian          3003\n",
       "chinese         2673\n",
       "french          2646\n",
       "cajun_creole    1546\n",
       "thai            1539\n",
       "japanese        1423\n",
       "greek           1175\n",
       "spanish          989\n",
       "korean           830\n",
       "vietnamese       825\n",
       "moroccan         821\n",
       "british          804\n",
       "filipino         755\n",
       "irish            667\n",
       "jamaican         526\n",
       "russian          489\n",
       "brazilian        467\n",
       "Name: cuisine, dtype: int64"
      ]
     },
     "execution_count": 93,
     "metadata": {},
     "output_type": "execute_result"
    }
   ],
   "source": [
    "df['cuisine'].value_counts()"
   ]
  },
  {
   "cell_type": "code",
   "execution_count": null,
   "metadata": {},
   "outputs": [],
   "source": [
    "real_ingredients = []\n",
    "\n",
    "for ingredients in df['ingredient_list_cleaned']:\n",
    "    for ingredient in ingredients:\n",
    "        real_ingredients.append(ingredient.strip())\n",
    "        \n",
    "count_of_ingredient = collections.Counter(real_ingredients)\n",
    "count_of_ingredient.most_common(10)\n"
   ]
  },
  {
   "cell_type": "code",
   "execution_count": null,
   "metadata": {},
   "outputs": [],
   "source": [
    "len(count_of_ingredient.keys())"
   ]
  },
  {
   "cell_type": "code",
   "execution_count": 94,
   "metadata": {},
   "outputs": [
    {
     "data": {
      "text/plain": [
       "<matplotlib.axes._subplots.AxesSubplot at 0x1c8b3fb2b00>"
      ]
     },
     "execution_count": 94,
     "metadata": {},
     "output_type": "execute_result"
    },
    {
     "data": {
      "image/png": "[encoded data removed]",
      "text/plain": [
       "<Figure size 720x432 with 1 Axes>"
      ]
     },
     "metadata": {
      "needs_background": "light"
     },
     "output_type": "display_data"
    }
   ],
   "source": [
    "fig = plt.figure(figsize=[10,6])\n",
    "plt.xticks(rotation=70)\n",
    "sns.countplot(df['cuisine'])"
   ]
  },
  {
   "cell_type": "code",
   "execution_count": null,
   "metadata": {},
   "outputs": [],
   "source": [
    "count_of_ingredient_ordered = sorted(count_of_ingredient.items(), key=lambda x: x[1], reverse=True)"
   ]
  },
  {
   "cell_type": "code",
   "execution_count": null,
   "metadata": {},
   "outputs": [],
   "source": [
    "count_of_ingredient.most_common(10)\n",
    "\n",
    "ingredients = []\n",
    "counter = []\n",
    "\n",
    "for counted_ingredients in count_of_ingredient.most_common(40):\n",
    "    ingredients.append(counted_ingredients[0])\n",
    "    counter.append(counted_ingredients[1])\n",
    "    \n",
    "fig = plt.figure(figsize=[16,8])\n",
    "\n",
    "plt.xticks(rotation=70)\n",
    "\n",
    "sns.barplot(x=ingredients, y=counter)"
   ]
  },
  {
   "cell_type": "code",
   "execution_count": null,
   "metadata": {},
   "outputs": [],
   "source": [
    "sentences = []\n",
    "\n",
    "for ingredients in df['ingredient_list_cleaned']:\n",
    "    cleaned_ing = []\n",
    "    for ingredient in ingredients:\n",
    "        ingredient = re.sub('r\\(.*oz\\)|minced|poweder|chopped|sliced|paste|crushed|ground|diced', '', ingredient)\n",
    "        cleaned_ing.append(ingredient.strip())\n",
    "    sentences.append(cleaned_ing)\n",
    "    \n",
    "print(len(sentences))\n",
    "print(sentences[:10])"
   ]
  },
  {
   "cell_type": "code",
   "execution_count": null,
   "metadata": {},
   "outputs": [],
   "source": [
    "keys = count_of_ingredient.keys()\n",
    "values = count_of_ingredient.values()\n",
    "\n",
    "fig1, ax1 = plt.subplots()\n",
    "ax1.set_title('Number of Ingredients')\n",
    "ax1.boxplot(list(values), showfliers=False)\n",
    "\n",
    "len_of_sentences = df['ingredient_list_cleaned'].apply(lambda x: len(x))\n",
    "print(type(len_of_sentences))\n",
    "print(len_of_sentences.describe())\n",
    "\n",
    "fig2, ax2 = plt.subplots()\n",
    "ax2.set_title('Length of Sentences')\n",
    "ax2.boxplot(len_of_sentences, showfliers=False)"
   ]
  },
  {
   "cell_type": "code",
   "execution_count": null,
   "metadata": {},
   "outputs": [],
   "source": [
    "num_of_features = 250 # Dimensionality of the word vectors.\n",
    "\n",
    "min_word_count = 4 # Ignores all words with total frequency lower than this.\n",
    "\n",
    "num_workers = 4 # Use these many worker threads to train the model\n",
    "\n",
    "window_context = 6 # Maximum distance between the current and predicted word within a sentence.\n",
    "\n",
    "sample = 1e-3 # The threshold for configuring which higher-frequency words are randomly downsampled."
   ]
  },
  {
   "cell_type": "code",
   "execution_count": null,
   "metadata": {},
   "outputs": [],
   "source": [
    "model = word2vec.Word2Vec(sentences, size=num_of_features,\n",
    "                          min_count=min_word_count, workers=num_workers,\n",
    "                          window=window_context, sample=sample)"
   ]
  },
  {
   "cell_type": "code",
   "execution_count": null,
   "metadata": {},
   "outputs": [],
   "source": [
    "model.wv.most_similar('jalapeno chili')"
   ]
  },
  {
   "cell_type": "code",
   "execution_count": null,
   "metadata": {},
   "outputs": [],
   "source": [
    "model.wv.similarity('fresh pineappl', 'milk')"
   ]
  },
  {
   "cell_type": "code",
   "execution_count": null,
   "metadata": {},
   "outputs": [],
   "source": [
    "def display_closestwords_tsnescatterplot(model, word):\n",
    "    \n",
    "    arr = np.empty((0,250), dtype='f')\n",
    "    word_labels = [word]\n",
    "\n",
    "    # get close words\n",
    "    close_words = model.similar_by_word(word)\n",
    "    \n",
    "    # add the vector for each of the closest words to the array\n",
    "    arr = np.append(arr, np.array([model[word]]), axis=0)\n",
    "    for wrd_score in close_words:\n",
    "        wrd_vector = model[wrd_score[0]]\n",
    "        word_labels.append(wrd_score[0])\n",
    "        arr = np.append(arr, np.array([wrd_vector]), axis=0)\n",
    "        \n",
    "    # find tsne coords for 2 dimensions\n",
    "    tsne = TSNE(n_components=2, random_state=0)\n",
    "    np.set_printoptions(suppress=True)\n",
    "    Y = tsne.fit_transform(arr)\n",
    "\n",
    "    x_coords = Y[:, 0]\n",
    "    y_coords = Y[:, 1]\n",
    "    # display scatter plot\n",
    "    \n",
    "    plt.scatter(x_coords, y_coords)\n",
    "\n",
    "    for label, x, y in zip(word_labels, x_coords, y_coords):\n",
    "        plt.annotate(label, xy=(x, y), xytext=(0, 0), textcoords='offset points')\n",
    "    plt.xlim(x_coords.min()+0.00005, x_coords.max()+0.00005)\n",
    "    plt.ylim(y_coords.min()+0.00005, y_coords.max()+0.00005)\n",
    "    plt.show()"
   ]
  },
  {
   "cell_type": "code",
   "execution_count": 19,
   "metadata": {},
   "outputs": [
    {
     "data": {
      "text/plain": [
       "[('orang bell pepper', 0.9075711369514465),\n",
       " ('cherri tomato', 0.8766277432441711),\n",
       " ('avocado', 0.8739045858383179),\n",
       " ('yellow bell pepper', 0.8732463121414185),\n",
       " ('grape tomato', 0.8645813465118408),\n",
       " ('roma tomato', 0.8590236902236938),\n",
       " ('reducedfat sour cream', 0.8582755327224731),\n",
       " ('bake tortilla chip', 0.854686439037323),\n",
       " ('reduc sodium black bean', 0.8538311123847961),\n",
       " ('jicama', 0.8485833406448364)]"
      ]
     },
     "execution_count": 19,
     "metadata": {},
     "output_type": "execute_result"
    }
   ],
   "source": [
    "model.wv.most_similar('romain lettuc')"
   ]
  },
  {
   "cell_type": "code",
   "execution_count": 20,
   "metadata": {},
   "outputs": [
    {
     "name": "stderr",
     "output_type": "stream",
     "text": [
      "/Library/Frameworks/Python.framework/Versions/3.7/lib/python3.7/site-packages/ipykernel_launcher.py:7: DeprecationWarning: Call to deprecated `similar_by_word` (Method will be removed in 4.0.0, use self.wv.similar_by_word() instead).\n",
      "  import sys\n",
      "/Library/Frameworks/Python.framework/Versions/3.7/lib/python3.7/site-packages/ipykernel_launcher.py:10: DeprecationWarning: Call to deprecated `__getitem__` (Method will be removed in 4.0.0, use self.wv.__getitem__() instead).\n",
      "  # Remove the CWD from sys.path while we load stuff.\n",
      "/Library/Frameworks/Python.framework/Versions/3.7/lib/python3.7/site-packages/ipykernel_launcher.py:12: DeprecationWarning: Call to deprecated `__getitem__` (Method will be removed in 4.0.0, use self.wv.__getitem__() instead).\n",
      "  if sys.path[0] == '':\n"
     ]
    },
    {
     "data": {
      "image/png": "[encoded data removed]",
      "text/plain": [
       "<Figure size 432x288 with 1 Axes>"
      ]
     },
     "metadata": {
      "needs_background": "light"
     },
     "output_type": "display_data"
    }
   ],
   "source": [
    "display_closestwords_tsnescatterplot(model, 'romain lettuc')"
   ]
  },
  {
   "cell_type": "code",
   "execution_count": null,
   "metadata": {},
   "outputs": [
    {
     "name": "stderr",
     "output_type": "stream",
     "text": [
      "/Library/Frameworks/Python.framework/Versions/3.7/lib/python3.7/site-packages/ipykernel_launcher.py:6: DeprecationWarning: Call to deprecated `__getitem__` (Method will be removed in 4.0.0, use self.wv.__getitem__() instead).\n",
      "  \n"
     ]
    }
   ],
   "source": [
    "    \"Creates and TSNE model and plots it\"\n",
    "    labels = []\n",
    "    tokens = []\n",
    "\n",
    "    for word in model.wv.vocab:\n",
    "        tokens.append(model[word])\n",
    "        labels.append(word)\n",
    "        \n",
    "    #print(tokens[:5])\n",
    "    #print(labels[:5])\n",
    "    \n",
    "    tsne_model = TSNE(perplexity=40, n_components=2, init='pca', n_iter=2500, random_state=23)\n",
    "    '''\n",
    "    tool to visualize high-dimensional data. It converts similarities between data points to joint\n",
    "    probabilities and tries to minimize the Kullback-Leibler divergence between the joint probabilities \n",
    "    of the low-dimensional embedding and the high-dimensional data\n",
    "    '''\n",
    "    new_values = tsne_model.fit_transform(tokens)\n",
    "    #print(new_values)\n",
    "    #print(new_values[:5])\n",
    "    \n",
    "    x = []\n",
    "    y = []\n",
    "    for value in new_values:\n",
    "        x.append(value[0])\n",
    "        y.append(value[1])\n",
    "    \n",
    "    \n",
    "    #print(x[0])\n",
    "    #print(y[0])\n",
    "    '''\n",
    "    plt.figure(figsize=(16, 16)) \n",
    "    for i in range(len(x)):\n",
    "        plt.scatter(x[i],y[i])\n",
    "        #plt.annotate('',\n",
    "         #            xy=(x[i], y[i]),\n",
    "          #           xytext=(5, 2),\n",
    "           #          textcoords='offset points',\n",
    "            #         ha='right',\n",
    "             #        va='bottom')\n",
    "    plt.show()\n",
    "    '''"
   ]
  },
  {
   "cell_type": "code",
   "execution_count": null,
   "metadata": {},
   "outputs": [],
   "source": [
    "from sklearn.neighbors import KNeighborsClassifier\n",
    "classifier = KNeighborsClassifier(n_neighbors=5)\n",
    "classifier.fit(X_train, y_train)"
   ]
  },
  {
   "cell_type": "code",
   "execution_count": null,
   "metadata": {},
   "outputs": [],
   "source": [
    "model.wv.most_similar('romain lettuc')"
   ]
  },
  {
   "cell_type": "code",
   "execution_count": null,
   "metadata": {},
   "outputs": [],
   "source": [
    "# 1) User Search for Ingredient that they enjoy --> Once Found reeccomend ingredients"
   ]
  },
  {
   "cell_type": "code",
   "execution_count": null,
   "metadata": {},
   "outputs": [],
   "source": [
    "from gensim.models import Word2Vec, KeyedVectors   \n",
    "model.wv.save_word2vec_format('model.bin', binary=True)"
   ]
  },
  {
   "cell_type": "code",
   "execution_count": null,
   "metadata": {},
   "outputs": [],
   "source": [
    "model.save(\"model.model\")"
   ]
  },
  {
   "cell_type": "code",
   "execution_count": 34,
   "metadata": {},
   "outputs": [],
   "source": [
    "ingred = []\n",
    "for key, value in count_of_ingredient.items():\n",
    "    if value > 4:\n",
    "        if key != '':\n",
    "            if key[0] == ' ':\n",
    "                key = key[1:]\n",
    "            ingred.append(key)"
   ]
  },
  {
   "cell_type": "code",
   "execution_count": 35,
   "metadata": {},
   "outputs": [
    {
     "data": {
      "text/plain": [
       "3328"
      ]
     },
     "execution_count": 35,
     "metadata": {},
     "output_type": "execute_result"
    }
   ],
   "source": [
    "len(ingred)"
   ]
  },
  {
   "cell_type": "code",
   "execution_count": 10,
   "metadata": {},
   "outputs": [],
   "source": [
    "cuisineObj = []\n",
    "for key, value in cuisine_counter.items():\n",
    "    cuisineObj.append(key)\n",
    "    \n",
    "#print(len(cuisineObj))"
   ]
  },
  {
   "cell_type": "code",
   "execution_count": 36,
   "metadata": {},
   "outputs": [],
   "source": [
    "import pickle"
   ]
  },
  {
   "cell_type": "code",
   "execution_count": 37,
   "metadata": {},
   "outputs": [],
   "source": [
    "with open('ingred_list_v2.pkl', 'wb') as f:\n",
    "    pickle.dump(ingred, f)\n",
    "    \n",
    "    \n",
    "with open('cuisine_obj.pkl', 'wb') as f:\n",
    "    pickle.dump(cuisineObj, f)"
   ]
  },
  {
   "cell_type": "code",
   "execution_count": 13,
   "metadata": {},
   "outputs": [
    {
     "data": {
      "text/plain": [
       "['greek',\n",
       " 'southern_us',\n",
       " 'filipino',\n",
       " 'indian',\n",
       " 'jamaican',\n",
       " 'spanish',\n",
       " 'italian',\n",
       " 'mexican',\n",
       " 'chinese',\n",
       " 'british',\n",
       " 'thai',\n",
       " 'vietnamese',\n",
       " 'cajun_creole',\n",
       " 'brazilian',\n",
       " 'french',\n",
       " 'japanese',\n",
       " 'irish',\n",
       " 'korean',\n",
       " 'moroccan',\n",
       " 'russian']"
      ]
     },
     "execution_count": 13,
     "metadata": {},
     "output_type": "execute_result"
    }
   ],
   "source": [
    "cuisineObj"
   ]
  },
  {
   "cell_type": "code",
   "execution_count": 14,
   "metadata": {},
   "outputs": [
    {
     "data": {
      "text/plain": [
       "0              [greek]\n",
       "1        [southern_us]\n",
       "2           [filipino]\n",
       "3             [indian]\n",
       "4             [indian]\n",
       "             ...      \n",
       "39769          [irish]\n",
       "39770        [italian]\n",
       "39771          [irish]\n",
       "39772        [chinese]\n",
       "39773        [mexican]\n",
       "Name: cuisine, Length: 39774, dtype: object"
      ]
     },
     "execution_count": 14,
     "metadata": {},
     "output_type": "execute_result"
    }
   ],
   "source": [
    "df['cuisine']"
   ]
  },
  {
   "cell_type": "code",
   "execution_count": 15,
   "metadata": {},
   "outputs": [
    {
     "ename": "IndentationError",
     "evalue": "unexpected indent (<ipython-input-15-5464665df482>, line 5)",
     "output_type": "error",
     "traceback": [
      "\u001b[0;36m  File \u001b[0;32m\"<ipython-input-15-5464665df482>\"\u001b[0;36m, line \u001b[0;32m5\u001b[0m\n\u001b[0;31m    if ingred is not in dict\u001b[0m\n\u001b[0m    ^\u001b[0m\n\u001b[0;31mIndentationError\u001b[0m\u001b[0;31m:\u001b[0m unexpected indent\n"
     ]
    }
   ],
   "source": [
    "dict = {}\n",
    "\n",
    "# iterate over each row\n",
    "    # iterate over ingredient list cleaned\n",
    "        if ingred is not in dict\n",
    "            add key to dict withvalue in list\n",
    "        else\n",
    "            append cusine to value lsit at dict[key]\n",
    "            "
   ]
  },
  {
   "cell_type": "code",
   "execution_count": 16,
   "metadata": {},
   "outputs": [],
   "source": [
    "df['cuisine'] = df['cuisine'].apply(lambda x: x[0])"
   ]
  },
  {
   "cell_type": "code",
   "execution_count": null,
   "metadata": {},
   "outputs": [],
   "source": [
    "df.head()"
   ]
  },
  {
   "cell_type": "code",
   "execution_count": null,
   "metadata": {},
   "outputs": [],
   "source": [
    "cook_book = {}\n",
    "\n",
    "for index, row in df.iterrows():\n",
    "    \n",
    "    #print(row['cuisine'], row['ingredient_list_cleaned'])\n",
    "\n",
    "    #print(row['cuisine'])\n",
    "    for ingred in row['ingredient_list_cleaned']:\n",
    "        if ingred[0] == ' ':\n",
    "            ingred = ingred[1:]\n",
    "        #print(row['cuisine'])\n",
    "        if ingred not in cook_book.keys():\n",
    "            #print(ingred)\n",
    "            cook_book[ingred] = dict()\n",
    "            cook_book[ingred][row['cuisine']] = 1\n",
    "            \n",
    "        else:\n",
    "            if row['cuisine'] in cook_book[ingred].keys():\n",
    "                cook_book[ingred][row['cuisine']] += 1\n",
    "            else:\n",
    "                cook_book[ingred][row['cuisine']] = 1\n",
    "                \n",
    "        cook_book[ingred] = dict(sorted(cook_book[ingred].items(), key=lambda kv: kv[1], reverse=True))\n",
    "        \n",
    "            #cook_book[ingred][row['cuisine']] += 1\n",
    "            \n",
    "        \n",
    "            \n",
    "    \n",
    "    "
   ]
  },
  {
   "cell_type": "code",
   "execution_count": null,
   "metadata": {},
   "outputs": [],
   "source": [
    "with open('cook_book_v3.pkl', 'wb') as f:\n",
    "    pickle.dump(cook_book, f)\n",
    "    "
   ]
  },
  {
   "cell_type": "code",
   "execution_count": null,
   "metadata": {},
   "outputs": [],
   "source": [
    "cook_book['grill chicken breast']"
   ]
  },
  {
   "cell_type": "code",
   "execution_count": null,
   "metadata": {},
   "outputs": [],
   "source": [
    "cook_book"
   ]
  },
  {
   "cell_type": "code",
   "execution_count": null,
   "metadata": {},
   "outputs": [],
   "source": []
  }
 ],
 "metadata": {
  "kernelspec": {
   "display_name": "Python 3",
   "language": "python",
   "name": "python3"
  },
  "language_info": {
   "codemirror_mode": {
    "name": "ipython",
    "version": 3
   },
   "file_extension": ".py",
   "mimetype": "text/x-python",
   "name": "python",
   "nbconvert_exporter": "python",
   "pygments_lexer": "ipython3",
   "version": "3.6.1"
  }
 },
 "nbformat": 4,
 "nbformat_minor": 4
}
